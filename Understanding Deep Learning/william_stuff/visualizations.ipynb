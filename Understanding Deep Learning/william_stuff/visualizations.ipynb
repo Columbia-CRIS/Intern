{
 "cells": [
  {
   "cell_type": "markdown",
   "metadata": {},
   "source": [
    "# Visualizations of WL sampling\n",
    "\n",
    "By: William Tong (wlt2115)"
   ]
  },
  {
   "cell_type": "code",
   "execution_count": 22,
   "metadata": {},
   "outputs": [],
   "source": [
    "from pathlib import Path\n",
    "\n",
    "import matplotlib.pyplot as plt \n",
    "import numpy as np\n",
    "from scipy.special import softmax\n",
    "\n",
    "from deep_learning import util\n",
    "\n",
    "%matplotlib inline\n",
    "%config IPCompleter.greedy=True\n",
    "\n",
    "\n",
    "# Helper\n",
    "# TODO: unify in utils\n",
    "def _get_density(values: list) -> list:\n",
    "    total = sum(values)\n",
    "    densities = [value / total for value in values]\n",
    "    \n",
    "    return densities"
   ]
  },
  {
   "cell_type": "markdown",
   "metadata": {},
   "source": [
    "## Simple classifier"
   ]
  },
  {
   "cell_type": "code",
   "execution_count": 23,
   "metadata": {},
   "outputs": [],
   "source": [
    "def classify_pinwheel(x: np.ndarray):\n",
    "    W = np.array([[0, -1 / np.sqrt(2), 1, 1 / np.sqrt(2)],\n",
    "                  [1,  1 / np.sqrt(2), 0, 1 / np.sqrt(2)]])\n",
    "    results = np.matmul(W.transpose(), x.reshape(2, 1))\n",
    "    \n",
    "    return np.argmax(softmax(results))"
   ]
  },
  {
   "cell_type": "markdown",
   "metadata": {},
   "source": [
    "## WL run"
   ]
  },
  {
   "cell_type": "code",
   "execution_count": 24,
   "metadata": {},
   "outputs": [
    {
     "name": "stderr",
     "output_type": "stream",
     "text": [
      "INFO:root:Iteration 200 f=1.000000\n",
      "INFO:root:At check, min: 59.000000 mean: 66.666667\n",
      "INFO:root:Iteration 400 f=1.000000\n",
      "INFO:root:At check, min: 126.000000 mean: 133.333333\n",
      "INFO:root:Iteration 600 f=1.000000\n",
      "INFO:root:At check, min: 198.000000 mean: 200.000000\n",
      "INFO:root:Histogram flat at iteration 600\n",
      "INFO:root:Iteration 800 f=0.500000\n",
      "INFO:root:At check, min: 64.000000 mean: 66.666667\n",
      "INFO:root:Histogram flat at iteration 800\n",
      "INFO:root:Iteration 1000 f=0.250000\n",
      "INFO:root:At check, min: 61.000000 mean: 66.666667\n",
      "INFO:root:Iteration 1200 f=0.250000\n",
      "INFO:root:At check, min: 131.000000 mean: 133.333333\n",
      "INFO:root:Histogram flat at iteration 1200\n",
      "INFO:root:Iteration 1400 f=0.125000\n",
      "INFO:root:At check, min: 59.000000 mean: 66.666667\n",
      "INFO:root:Iteration 1600 f=0.125000\n",
      "INFO:root:At check, min: 129.000000 mean: 133.333333\n",
      "INFO:root:Histogram flat at iteration 1600\n",
      "INFO:root:Iteration 1800 f=0.062500\n",
      "INFO:root:At check, min: 57.000000 mean: 66.666667\n",
      "INFO:root:Iteration 2000 f=0.062500\n",
      "INFO:root:At check, min: 133.000000 mean: 133.333333\n",
      "INFO:root:Histogram flat at iteration 2000\n",
      "INFO:root:Iteration 2200 f=0.031250\n",
      "INFO:root:At check, min: 55.000000 mean: 66.666667\n",
      "INFO:root:Iteration 2400 f=0.031250\n",
      "INFO:root:At check, min: 121.000000 mean: 133.333333\n",
      "INFO:root:Iteration 2600 f=0.031250\n",
      "INFO:root:At check, min: 187.000000 mean: 200.000000\n",
      "INFO:root:Iteration 2800 f=0.031250\n",
      "INFO:root:At check, min: 261.000000 mean: 266.666667\n",
      "INFO:root:Histogram flat at iteration 2800\n",
      "INFO:root:Iteration 3000 f=0.015625\n",
      "INFO:root:At check, min: 60.000000 mean: 66.666667\n",
      "INFO:root:Iteration 3200 f=0.015625\n",
      "INFO:root:At check, min: 126.000000 mean: 133.333333\n",
      "INFO:root:Iteration 3400 f=0.015625\n",
      "INFO:root:At check, min: 194.000000 mean: 200.000000\n",
      "INFO:root:Histogram flat at iteration 3400\n",
      "INFO:root:Iteration 3600 f=0.007812\n",
      "INFO:root:At check, min: 55.000000 mean: 66.666667\n",
      "INFO:root:Iteration 3800 f=0.007812\n",
      "INFO:root:At check, min: 127.000000 mean: 133.333333\n",
      "INFO:root:Histogram flat at iteration 3800\n",
      "INFO:root:Iteration 4000 f=0.003906\n",
      "INFO:root:At check, min: 63.000000 mean: 66.666667\n",
      "INFO:root:Iteration 4200 f=0.003906\n",
      "INFO:root:At check, min: 131.000000 mean: 133.333333\n",
      "INFO:root:Histogram flat at iteration 4200\n",
      "INFO:root:Iteration 4400 f=0.001953\n",
      "INFO:root:At check, min: 58.000000 mean: 66.666667\n",
      "INFO:root:Iteration 4600 f=0.001953\n",
      "INFO:root:At check, min: 127.000000 mean: 133.333333\n",
      "INFO:root:Histogram flat at iteration 4600\n"
     ]
    },
    {
     "data": {
      "text/plain": [
       "<Figure size 432x288 with 0 Axes>"
      ]
     },
     "metadata": {},
     "output_type": "display_data"
    }
   ],
   "source": [
    "SAVE_DIR = Path(r'/home/grandpaa/workspace/deep_learning/logs/wang_landau/pinwheel')\n",
    "\n",
    "wl_configs = {\n",
    "    'energy' : classify_pinwheel,\n",
    "    \n",
    "    'domain': np.array([0, 5]*2).reshape(2, -1),\n",
    "    'energy_range': range(10),\n",
    "\n",
    "    'flatness': 0.95,\n",
    "    'step_size': 1,\n",
    "\n",
    "    'max_iterations': 100000,\n",
    "    'check_every': 200,\n",
    "    'save_every': 2000,\n",
    "    'log_dir': SAVE_DIR\n",
    "}\n",
    "\n",
    "freqs, hist = util.wang_landau(**wl_configs)"
   ]
  },
  {
   "cell_type": "markdown",
   "metadata": {},
   "source": [
    "## Parse results"
   ]
  },
  {
   "cell_type": "code",
   "execution_count": 25,
   "metadata": {},
   "outputs": [
    {
     "name": "stdout",
     "output_type": "stream",
     "text": [
      "bins:\t [0, 1, 2, 3, 4, 5, 6, 7, 8, 9]\n",
      "valus:\t [304.501953125, 0, 304.66015625, 305.681640625, 0, 0, 0, 0, 0, 0]\n",
      "[0, 1, 2, 3, 4, 5, 6, 7, 8, 9]\n",
      "densities:\t  [0.18433990201172865, 1.0522074716082854e-133, 0.21593651922288457, 0.5997235787653868, 1.0522074716082854e-133, 1.0522074716082854e-133, 1.0522074716082854e-133, 1.0522074716082854e-133, 1.0522074716082854e-133, 1.0522074716082854e-133]\n"
     ]
    },
    {
     "data": {
      "image/png": "[encoded data removed]",
      "text/plain": [
       "<Figure size 432x288 with 2 Axes>"
      ]
     },
     "metadata": {
      "needs_background": "light"
     },
     "output_type": "display_data"
    }
   ],
   "source": [
    "bins = list(freqs.keys())\n",
    "values = list(freqs.values())\n",
    "print('bins:\\t', bins)\n",
    "print('valus:\\t', values)\n",
    "\n",
    "plt.subplot(121)\n",
    "plt.title(\"ln of energy density\")\n",
    "print(bins)\n",
    "plt.hist(bins, weights=values, bins=len(bins), orientation='horizontal')\n",
    "plt.ylim((0, 4))\n",
    "\n",
    "plt.subplot(122)\n",
    "max_val = max(values)\n",
    "norm_values = [np.e ** (value - max_val) for value in values]\n",
    "plt.title(\"Normalized energy densities\")\n",
    "plt.hist(bins, weights=norm_values, bins=len(bins), orientation='horizontal')\n",
    "plt.ylim((0, 4))\n",
    "\n",
    "print('densities:\\t ', _get_density(norm_values))"
   ]
  },
  {
   "cell_type": "markdown",
   "metadata": {},
   "source": [
    "## Visual verification"
   ]
  },
  {
   "cell_type": "code",
   "execution_count": 26,
   "metadata": {},
   "outputs": [
    {
     "name": "stdout",
     "output_type": "stream",
     "text": [
      "Class 0: 0.213200 points\n",
      "Class 1: 0.000000 points\n",
      "Class 2: 0.212800 points\n",
      "Class 3: 0.574000 points\n"
     ]
    },
    {
     "data": {
      "image/png": "[encoded data removed]",
      "text/plain": [
       "<Figure size 432x288 with 1 Axes>"
      ]
     },
     "metadata": {
      "needs_background": "light"
     },
     "output_type": "display_data"
    }
   ],
   "source": [
    "line = np.arange(0, 5, 0.1)\n",
    "box = np.array([[x, y] for x in line for y in line])\n",
    "\n",
    "energy_func = wl_configs['energy']\n",
    "classes = {i: [] for i in range(4)}\n",
    "for point in box:\n",
    "    classes[energy_func(point)].append(point)\n",
    "\n",
    "for points in classes.values():\n",
    "    if len(points) != 0:\n",
    "        x, y = zip(*points)\n",
    "        colors = np.random.rand()\n",
    "    #     plt.scatter(points[:,0], points[:,1], c=colors, alpha=0.5)\n",
    "        plt.scatter(x, y)\n",
    "\n",
    "for i in classes.keys():\n",
    "    print(\"Class %d: %f points\" % (i, len(classes[i]) / 2500.0))\n"
   ]
  },
  {
   "cell_type": "code",
   "execution_count": null,
   "metadata": {},
   "outputs": [],
   "source": []
  }
 ],
 "metadata": {
  "kernelspec": {
   "display_name": "Python 3",
   "language": "python",
   "name": "python3"
  },
  "language_info": {
   "codemirror_mode": {
    "name": "ipython",
    "version": 3
   },
   "file_extension": ".py",
   "mimetype": "text/x-python",
   "name": "python",
   "nbconvert_exporter": "python",
   "pygments_lexer": "ipython3",
   "version": "3.7.3"
  }
 },
 "nbformat": 4,
 "nbformat_minor": 2
}
